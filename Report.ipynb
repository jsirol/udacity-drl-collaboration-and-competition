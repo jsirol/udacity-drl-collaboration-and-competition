{
 "cells": [
  {
   "cell_type": "markdown",
   "metadata": {},
   "source": [
    "# Collaboration and Competition - Report"
   ]
  },
  {
   "cell_type": "markdown",
   "metadata": {},
   "source": [
    "## 1. Implementation Details\n",
    "The implementation consists of files agent.py, model.py and ddpg_trainer.py found under the ddpg/ folder. The code is organized as follows:\n",
    "\n",
    "`agent.py` contains code for the agent.\n",
    "\n",
    "`model.py` contains the neural network code that is used by the agent.\n",
    "\n",
    "`ddpg_trainer.py` contains code that is used to train the agent.\n",
    "For information about the project and the environment can be found in the file `README.md`."
   ]
  },
  {
   "cell_type": "markdown",
   "metadata": {},
   "source": [
    "## 2. Algorithm\n",
    "I re-used the Deep Deterministic Policy Gradient (DDPG)-code from Project 2 in the Udacity Deep Reinforcement Learning course as this was sufficient to solve this environment easily. The original code template implementing the DDPG-algorithm from the Udacity course Deep Reinforcement Learning was used as the starting point of Project 2 and hence also this Project. My work extended the template provided by Udacity by \n",
    "\n",
    "1. Collecting experiences from multiple agents (as there are two agents in the environment). \n",
    "2. Using different neural networks for the Actor and Critic, including Batch Normalization.\n",
    "\n",
    "The local and target networks were initialized using the same weights (one set of weights for Actor networks and one for the Critic networks). Also I did not use Ornstein-Uhlenbeck noise for the actions.\n",
    "\n",
    "As the agents in this environment have the same task of keeping the ball in play, and their observations are local, we will be using the same actor network for choosing actions for both of the Agents. The Critic network is naturally shared, too. Considering this setup, the DDPG where each agent adds its experience to the replay buffer is enough to\n",
    "\n",
    "### Learning process\n",
    "The algorithm uses two neural networks, the Actor that learns the optimal policy, and the Critic that learns the Q-function. The algorithm implements this as 4 neural networks, by having a local and a target network for both the Actor and Critic to stabilize learning.\n",
    "\n",
    "The networks are training using collected (s,a,r,s') experience tuples from 20 agents, that are stored into a replay buffer. At regular intervals, we train the model by sampling tuples from the replay buffer and applying gradient based updates to the network weights. For more details see the further reading-section.\n",
    "\n",
    "### Agent hyperparameters\n",
    "| parameter                                     | value |\n",
    "|-----------------------------------------------|-------|\n",
    "| experience replay buffer size                 | 1e5   |\n",
    "| minibatch size                                | 128   |\n",
    "| gamma (discount factor)                       | 0.999 |\n",
    "| tau (for soft update of target networks)      | 1e-3  |\n",
    "| learning rate Actor                           | 2e-4  |\n",
    "| learning rate Critic                          | 2e-4  |\n",
    "| L2 weight decay (for optimizers)              | 0     |\n",
    "| update_every (steps between networks updates) | 1     |\n",
    "| update_times (number of consecutive/step)     | 1     |\n",
    "\n",
    "### Neural network architecture\n",
    "\n",
    "#### Actor\n",
    "We used a neural network with 2 fully connected layers with ReLU activation and 128 hidden units. For the output layer we used tanh activation to scale the outputs to range (-1,1). We also applied Batch Normalization to the output of the first hidden layer.\n",
    "\n",
    "#### Critic\n",
    "Here we use again a neural network with 2 fully connected layers with ReLU activation and 128 hidden units. The first hidden layer takes the states as inputs. After applying non-linearity after after the 1st hidden layer, we concatenate the actions to the layer that feeds into the 2nd hidden layer. We applied Batch Normalization to the output of the first hidden layer (before we concatenate the actions, refer to the code in `model.py`).\n",
    "\n",
    "We don't use activation function for the output layer as we are learning a Q-function.\n",
    "\n",
    "\n",
    "### Further reading\n",
    "[Continuous control with deep reinforcement learning (original paper on DDPG)](https://arxiv.org/pdf/1509.02971.pdf)"
   ]
  },
  {
   "cell_type": "markdown",
   "metadata": {},
   "source": [
    "## 3. Training\n",
    "Below we train the model until the environment is solved or max 3000 iterations. The environment is solved in 1158 iterations, after which we train it further 200 iterations to see if we can get better performance than what is required as the solving criterion. \n",
    "\n",
    "We are forcing CPU computation in our implementation as we saw it trained faster for these small network architectures. If you want to run on a GPU instead, uncomment the line `torch.device(\"cuda:0\" if torch.cuda.is_available() else \"cpu\")` in `agent.py`. \n",
    "\n",
    "If you want to watch a trained agent play, skip to part 4."
   ]
  },
  {
   "cell_type": "code",
   "execution_count": 1,
   "metadata": {},
   "outputs": [],
   "source": [
    "%load_ext autoreload\n",
    "%autoreload 2"
   ]
  },
  {
   "cell_type": "code",
   "execution_count": 2,
   "metadata": {},
   "outputs": [],
   "source": [
    "from unityagents import UnityEnvironment\n",
    "import numpy as np\n",
    "import torch\n",
    "import matplotlib.pyplot as plt\n",
    "%matplotlib inline\n",
    "\n",
    "from ddpg.agent import Agent\n",
    "from ddpg.ddpg_trainer import train_ddpg"
   ]
  },
  {
   "cell_type": "code",
   "execution_count": 3,
   "metadata": {},
   "outputs": [
    {
     "name": "stderr",
     "output_type": "stream",
     "text": [
      "INFO:unityagents:\n",
      "'Academy' started successfully!\n",
      "Unity Academy name: Academy\n",
      "        Number of Brains: 1\n",
      "        Number of External Brains : 1\n",
      "        Lesson number : 0\n",
      "        Reset Parameters :\n",
      "\t\t\n",
      "Unity brain name: TennisBrain\n",
      "        Number of Visual Observations (per agent): 0\n",
      "        Vector Observation space type: continuous\n",
      "        Vector Observation space size (per agent): 8\n",
      "        Number of stacked Vector Observation: 3\n",
      "        Vector Action space type: continuous\n",
      "        Vector Action space size (per agent): 2\n",
      "        Vector Action descriptions: , \n"
     ]
    }
   ],
   "source": [
    "# get handle to the environment\n",
    "env = UnityEnvironment(file_name=\"Tennis_Windows_x86_64/Tennis.exe\", no_graphics=True)"
   ]
  },
  {
   "cell_type": "code",
   "execution_count": 4,
   "metadata": {},
   "outputs": [],
   "source": [
    "brain_name = env.brain_names[0]\n",
    "env_info = env.reset(train_mode=True)[brain_name]\n",
    "brain = env.brains[brain_name]\n",
    "states = env_info.vector_observations\n",
    "\n",
    "# environment metadata\n",
    "action_size = brain.vector_action_space_size\n",
    "state_size = states.shape[1]"
   ]
  },
  {
   "cell_type": "code",
   "execution_count": 5,
   "metadata": {},
   "outputs": [
    {
     "name": "stdout",
     "output_type": "stream",
     "text": [
      "Action size: 2\n",
      "State size: 24\n"
     ]
    }
   ],
   "source": [
    "print(\"Action size: {}\".format(action_size))\n",
    "print(\"State size: {}\".format(state_size))"
   ]
  },
  {
   "cell_type": "code",
   "execution_count": 6,
   "metadata": {},
   "outputs": [],
   "source": [
    "# create the agent\n",
    "agent = Agent(state_size, action_size, random_seed=1234)"
   ]
  },
  {
   "cell_type": "code",
   "execution_count": 7,
   "metadata": {},
   "outputs": [
    {
     "name": "stdout",
     "output_type": "stream",
     "text": [
      "Episode 100\tAverage Score: 0.00\tScore: 0.00\n",
      "Episode 200\tAverage Score: 0.00\tScore: 0.00\n",
      "Episode 300\tAverage Score: 0.02\tScore: 0.00\n",
      "Episode 400\tAverage Score: 0.01\tScore: 0.00\n",
      "Episode 500\tAverage Score: 0.00\tScore: 0.00\n",
      "Episode 600\tAverage Score: 0.03\tScore: 0.00\n",
      "Episode 700\tAverage Score: 0.03\tScore: 0.00\n",
      "Episode 800\tAverage Score: 0.07\tScore: 0.00\n",
      "Episode 900\tAverage Score: 0.08\tScore: 0.10\n",
      "Episode 1000\tAverage Score: 0.10\tScore: 0.10\n",
      "Episode 1100\tAverage Score: 0.14\tScore: 0.20\n",
      "Episode 1158\tAverage Score: 0.50\tScore: 2.60\n",
      "Environment solved in 1158 episodes!\n",
      "\n",
      "Episode 1200\tAverage Score: 1.27\tScore: 0.20\n",
      "Episode 1300\tAverage Score: 1.74\tScore: 0.10\n",
      "Episode 1357\tAverage Score: 1.55\tScore: 0.10"
     ]
    }
   ],
   "source": [
    "# Train the agent for max 3000 episodes\n",
    "scores = train_ddpg(agent, env, n_episodes=3000, max_t=2000, save=True)"
   ]
  },
  {
   "cell_type": "code",
   "execution_count": 8,
   "metadata": {},
   "outputs": [],
   "source": [
    "env.close()"
   ]
  },
  {
   "cell_type": "markdown",
   "metadata": {},
   "source": [
    "### 3.1 Plot of training rewards\n",
    "The blue line shows the score (maximum over the agents) per episode, the orange line the average of 100 consecutive episodes, and the red horizontal line indicates the criterion used for solving (i.e. +0.5). "
   ]
  },
  {
   "cell_type": "code",
   "execution_count": 11,
   "metadata": {},
   "outputs": [],
   "source": [
    "import pandas as pd"
   ]
  },
  {
   "cell_type": "code",
   "execution_count": 18,
   "metadata": {},
   "outputs": [
    {
     "data": {
      "image/png": "[encoded data removed]",
      "text/plain": [
       "<matplotlib.figure.Figure at 0x1560220be10>"
      ]
     },
     "metadata": {
      "needs_background": "light"
     },
     "output_type": "display_data"
    }
   ],
   "source": [
    "plt.plot(scores)\n",
    "plt.plot(pd.Series(scores).rolling(100, min_periods=1).mean(), linewidth=2)\n",
    "plt.hlines(y=0.5, xmin=0, xmax=1400, linewidth=2, color='r')\n",
    "plt.xlabel(\"Episode\")\n",
    "plt.ylabel(\"Reward\")\n",
    "plt.title(\"Reward plot\")\n",
    "plt.show()"
   ]
  },
  {
   "cell_type": "markdown",
   "metadata": {},
   "source": [
    "## 4. Watch the agent play (with pretrained model)"
   ]
  },
  {
   "cell_type": "code",
   "execution_count": 23,
   "metadata": {},
   "outputs": [
    {
     "name": "stderr",
     "output_type": "stream",
     "text": [
      "INFO:unityagents:\n",
      "'Academy' started successfully!\n",
      "Unity Academy name: Academy\n",
      "        Number of Brains: 1\n",
      "        Number of External Brains : 1\n",
      "        Lesson number : 0\n",
      "        Reset Parameters :\n",
      "\t\t\n",
      "Unity brain name: TennisBrain\n",
      "        Number of Visual Observations (per agent): 0\n",
      "        Vector Observation space type: continuous\n",
      "        Vector Observation space size (per agent): 8\n",
      "        Number of stacked Vector Observation: 3\n",
      "        Vector Action space type: continuous\n",
      "        Vector Action space size (per agent): 2\n",
      "        Vector Action descriptions: , \n"
     ]
    }
   ],
   "source": [
    "# imports\n",
    "from unityagents import UnityEnvironment\n",
    "import numpy as np\n",
    "import torch\n",
    "import matplotlib.pyplot as plt\n",
    "%matplotlib inline\n",
    "\n",
    "from ddpg.agent import Agent\n",
    "\n",
    "\n",
    "# get handle to the environment (with graphics)\n",
    "env = UnityEnvironment(file_name=\"Tennis_Windows_x86_64/Tennis.exe\", no_graphics=True)\n",
    "\n",
    "brain_name = env.brain_names[0]\n",
    "env_info = env.reset(train_mode=True)[brain_name]\n",
    "brain = env.brains[brain_name]\n",
    "states = env_info.vector_observations\n",
    "\n",
    "# environment metadata\n",
    "action_size = brain.vector_action_space_size\n",
    "state_size = states.shape[1]\n",
    "env.close()"
   ]
  },
  {
   "cell_type": "code",
   "execution_count": 24,
   "metadata": {},
   "outputs": [],
   "source": [
    "# create the agent\n",
    "agent = Agent(state_size, action_size, random_seed=1234)\n",
    "\n",
    "# load saved model weights (load last checkpoint as it had best average results)\n",
    "agent.actor_local.load_state_dict(torch.load(\"saved_models/best_actor.pth\"))\n",
    "agent.critic_local.load_state_dict(torch.load(\"saved_models/best_critic.pth\"))"
   ]
  },
  {
   "cell_type": "code",
   "execution_count": 25,
   "metadata": {},
   "outputs": [
    {
     "name": "stderr",
     "output_type": "stream",
     "text": [
      "INFO:unityagents:\n",
      "'Academy' started successfully!\n",
      "Unity Academy name: Academy\n",
      "        Number of Brains: 1\n",
      "        Number of External Brains : 1\n",
      "        Lesson number : 0\n",
      "        Reset Parameters :\n",
      "\t\t\n",
      "Unity brain name: TennisBrain\n",
      "        Number of Visual Observations (per agent): 0\n",
      "        Vector Observation space type: continuous\n",
      "        Vector Observation space size (per agent): 8\n",
      "        Number of stacked Vector Observation: 3\n",
      "        Vector Action space type: continuous\n",
      "        Vector Action space size (per agent): 2\n",
      "        Vector Action descriptions: , \n"
     ]
    },
    {
     "name": "stdout",
     "output_type": "stream",
     "text": [
      "Score: 2.600000038743019\n"
     ]
    }
   ],
   "source": [
    "# Watch agent play\n",
    "env = UnityEnvironment(file_name=\"Tennis_Windows_x86_64/Tennis.exe\")\n",
    "agent_scores = np.zeros(2) # initialize the scores\n",
    "agent.reset()\n",
    "\n",
    "# default brain\n",
    "brain_name = env.brain_names[0]\n",
    "env_info = env.reset(train_mode=False)[brain_name]\n",
    "states = env_info.vector_observations\n",
    "while True:\n",
    "        actions = agent.act(states)\n",
    "        env_info = env.step(actions)[brain_name]\n",
    "        next_states = env_info.vector_observations\n",
    "        rewards = env_info.rewards\n",
    "        dones = env_info.local_done\n",
    "        states = next_states\n",
    "        agent_scores += rewards\n",
    "        if np.any(dones):\n",
    "            break\n",
    "\n",
    "    \n",
    "print(\"Score: {}\".format(np.max(agent_scores)))\n",
    "# close the env\n",
    "env.close()"
   ]
  },
  {
   "cell_type": "markdown",
   "metadata": {},
   "source": [
    "## 5. Future work\n",
    "The DDPG algorithm seemed to work quite well with the same hyperparameters and network architectures as in Project 2. Also the play of the agents looks quite good. I noticed the rate of convergence varied a bit over different runs, where the environment was usually solved still under 2000 episodes. Thus I think most of the work could be done in optimizing the convergence of the algorithm, even though the wall time used for solving the environment was not too much. Also, still late in training some low scores are gained on individual runs.\n",
    "\n",
    "A few concrete ideas for future work include again prioritized experience replay and more thorough hyperparameter search could be used for this purpose. Also it would be interesting to try a different algorithm such as [PPO](https://arxiv.org/pdf/1707.06347.pdf), [A3C](https://arxiv.org/pdf/1602.01783.pdf) or [D4PG](https://openreview.net/pdf?id=SyZipzbCb)."
   ]
  },
  {
   "cell_type": "code",
   "execution_count": null,
   "metadata": {},
   "outputs": [],
   "source": []
  }
 ],
 "metadata": {
  "kernelspec": {
   "display_name": "Python 3",
   "language": "python",
   "name": "python3"
  },
  "language_info": {
   "codemirror_mode": {
    "name": "ipython",
    "version": 3
   },
   "file_extension": ".py",
   "mimetype": "text/x-python",
   "name": "python",
   "nbconvert_exporter": "python",
   "pygments_lexer": "ipython3",
   "version": "3.6.4"
  }
 },
 "nbformat": 4,
 "nbformat_minor": 2
}
